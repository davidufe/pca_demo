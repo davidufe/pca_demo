{
  "cells": [
    {
      "cell_type": "markdown",
      "source": [
        "Este notebook se trata de uma atividade do módulo de PCA do curso de ciência de dados EBAC.\n",
        "\n",
        "O objetivo deste caderno é demonstrar como fazemos a transformação de dimensionalidade e suas consequências no processo de machine learning.\n",
        "\n",
        "Estamos utilizando um base de dados da UCI que faz um tracing do celular de 30 pessoas durante um intervalo de tempo quando essas pessoas fazem 6 tipos de atividades diferentes."
      ],
      "metadata": {
        "id": "FZy-FifeoQbF"
      }
    },
    {
      "cell_type": "markdown",
      "metadata": {
        "id": "Y1E3f5E3mywY"
      },
      "source": [
        "# PCA - Tarefa 01: *HAR* com PCA\n",
        "\n",
        "Vamos trabalhar com a base da demonstração feita em aula, mas vamos explorar um pouco melhor como é o desempenho da árvore variando o número de componentes principais."
      ]
    },
    {
      "cell_type": "code",
      "source": [
        "import numpy as np\n",
        "import pandas as pd\n",
        "import matplotlib.pyplot as plt\n",
        "import seaborn as sns\n",
        "\n",
        "from sklearn.tree import DecisionTreeClassifier\n",
        "\n",
        "from sklearn.decomposition import PCA\n",
        "from sklearn.tree import DecisionTreeClassifier\n",
        "from sklearn.metrics import accuracy_score\n",
        "from sklearn.ensemble import RandomForestClassifier\n",
        "from sklearn.metrics import confusion_matrix\n",
        "from sklearn.metrics import ConfusionMatrixDisplay\n",
        "from sklearn.model_selection import train_test_split\n",
        "from sklearn.model_selection import cross_val_score\n",
        "from sklearn.model_selection import GridSearchCV"
      ],
      "metadata": {
        "id": "Wrt0qmjeoFAY"
      },
      "execution_count": 5,
      "outputs": []
    },
    {
      "cell_type": "code",
      "execution_count": 6,
      "metadata": {
        "colab": {
          "base_uri": "https://localhost:8080/"
        },
        "id": "CKtBLNsqmywZ",
        "outputId": "d2a2a3b0-a3dd-464f-d771-b1ddc1a2f6bc"
      },
      "outputs": [
        {
          "output_type": "stream",
          "name": "stderr",
          "text": [
            "<ipython-input-6-103116ee7d44>:18: FutureWarning: The 'delim_whitespace' keyword in pd.read_csv is deprecated and will be removed in a future version. Use ``sep='\\s+'`` instead\n",
            "  labels = pd.read_csv(filename_labels, delim_whitespace=True, header=None, names=['cod_label', 'label'])\n",
            "<ipython-input-6-103116ee7d44>:21: FutureWarning: The 'delim_whitespace' keyword in pd.read_csv is deprecated and will be removed in a future version. Use ``sep='\\s+'`` instead\n",
            "  X_train = pd.read_csv(filename_xtrain, delim_whitespace=True, header=None, names=features.tolist())\n",
            "<ipython-input-6-103116ee7d44>:25: FutureWarning: The 'delim_whitespace' keyword in pd.read_csv is deprecated and will be removed in a future version. Use ``sep='\\s+'`` instead\n",
            "  X_test = pd.read_csv(ffilename_xtest, delim_whitespace=True, header=None, names=features.tolist())\n"
          ]
        }
      ],
      "source": [
        "#Nome das Variáveis\n",
        "filename_features = \"/content/Dados/UCI HAR Dataset/features.txt\"\n",
        "#Rótulo das atividades humanas\n",
        "filename_labels = \"/content//Dados/UCI HAR Dataset/activity_labels.txt\"\n",
        "\n",
        "#3 bases para o treino\n",
        "filename_subtrain = \"/content//Dados/UCI HAR Dataset/train/subject_train.txt\"\n",
        "filename_xtrain = \"/content//Dados/UCI HAR Dataset/train/X_train.txt\"\n",
        "filename_ytrain = \"/content//Dados/UCI HAR Dataset/train/y_train.txt\"\n",
        "\n",
        "#3base para o teste\n",
        "filename_subtest = \"/content/Dados/UCI HAR Dataset/teste/subject_test.txt\"\n",
        "ffilename_xtest = \"/content/Dados/UCI HAR Dataset/teste/X_test.txt\"\n",
        "filename_ytest = \"/content/Dados/UCI HAR Dataset/teste/y_test.txt\"\n",
        "\n",
        "# The 'squeeze' argument is deprecated. Read as DataFrame and then squeeze.\n",
        "features = pd.read_csv(filename_features, header=None, names=['nome_var'], sep=\"#\").squeeze(\"columns\") # Removing 'squeeze=True' and adding .squeeze(\"columns\") after reading the data.\n",
        "labels = pd.read_csv(filename_labels, delim_whitespace=True, header=None, names=['cod_label', 'label'])\n",
        "\n",
        "subject_train = pd.read_csv(filename_subtrain, header=None, names=['subject_id']).squeeze(\"columns\") # Removing 'squeeze=True' and adding .squeeze(\"columns\") after reading the data.\n",
        "X_train = pd.read_csv(filename_xtrain, delim_whitespace=True, header=None, names=features.tolist())\n",
        "y_train = pd.read_csv(filename_ytrain, header=None, names=['cod_label'])\n",
        "\n",
        "subject_test = pd.read_csv(filename_subtest, header=None, names=['subject_id']).squeeze(\"columns\") # Removing 'squeeze=True' and adding .squeeze(\"columns\") after reading the data.\n",
        "X_test = pd.read_csv(ffilename_xtest, delim_whitespace=True, header=None, names=features.tolist())\n",
        "y_test = pd.read_csv(filename_ytest, header=None, names=['cod_label'])"
      ]
    },
    {
      "cell_type": "markdown",
      "metadata": {
        "id": "D4wN4MPfmywZ"
      },
      "source": [
        "## Árvore de decisão\n",
        "\n",
        "Rode uma árvore de decisão com todas as variáveis, utilizando o ```ccp_alpha=0.001```. Avalie a acurácia nas bases de treinamento e teste. Avalie o tempo de processamento."
      ]
    },
    {
      "cell_type": "code",
      "execution_count": 23,
      "metadata": {
        "colab": {
          "base_uri": "https://localhost:8080/"
        },
        "id": "geK5ZyzYmywZ",
        "outputId": "9bf70753-db09-4b47-a123-3fcac4f53776"
      },
      "outputs": [
        {
          "output_type": "stream",
          "name": "stdout",
          "text": [
            "Acurácia na base de treino: 98.0%\n",
            "Acurácia na base de teste: 84.7%\n",
            "CPU times: user 4.82 s, sys: 5 ms, total: 4.82 s\n",
            "Wall time: 6 s\n"
          ]
        }
      ],
      "source": [
        "%%time\n",
        "#treinando a árvore\n",
        "clf = DecisionTreeClassifier(random_state=2360873, ccp_alpha=0.001).fit(X_train, y_train)\n",
        "\n",
        "#avaliando a base de teste\n",
        "print(f'Acurácia na base de treino: {clf.score(X_train, y_train)*100:.1f}%')\n",
        "print(f'Acurácia na base de teste: {clf.score(X_test, y_test)*100:.1f}%')\n"
      ]
    },
    {
      "cell_type": "markdown",
      "metadata": {
        "id": "P6fFXEbKmywa"
      },
      "source": [
        "## Árvore com PCA\n",
        "\n",
        "Faça uma análise de componemtes principais das variáveis originais. Utilize apenas uma componente. Faça uma árvore de decisão com esta componente como variável explicativa.\n",
        "\n",
        "- Avalie a acurácia nas bases de treinamento e teste\n",
        "- Avalie o tempo de processamento"
      ]
    },
    {
      "cell_type": "code",
      "execution_count": 18,
      "metadata": {
        "colab": {
          "base_uri": "https://localhost:8080/"
        },
        "id": "ehylzkh8mywa",
        "outputId": "37dc5dc8-ee7f-4570-a3cd-901778f60910"
      },
      "outputs": [
        {
          "output_type": "stream",
          "name": "stdout",
          "text": [
            "CPU times: user 1.24 s, sys: 13.8 ms, total: 1.26 s\n",
            "Wall time: 707 ms\n"
          ]
        }
      ],
      "source": [
        "#setando o obejto que irá guardar as informações de como realizar o PCA\n",
        "prcomp = PCA().fit(X_train)"
      ]
    },
    {
      "cell_type": "code",
      "source": [
        "#a partir desse objeto, podemos transformar agora as bases\n",
        "pc_treino = prcomp.transform(X_train)\n",
        "pc_teste  = prcomp.transform(X_test)\n",
        "pc_train = pd.DataFrame(pc_treino)\n",
        "pc_test = pd.DataFrame(pc_teste)"
      ],
      "metadata": {
        "id": "3LPDgTg4rOSE"
      },
      "execution_count": 21,
      "outputs": []
    },
    {
      "cell_type": "code",
      "source": [
        "%%time\n",
        "#treinando o modelo\n",
        "clf_pca = DecisionTreeClassifier(random_state=2360873, ccp_alpha=0.001).fit(pc_train, y_train)\n",
        "#avaliando a base de teste\n",
        "print(f'Acurácia na base de treino: {clf.score(pc_train, y_train)*100:.1f}%')\n",
        "print(f'Acurácia na base de teste: {clf.score(pc_test, y_test)*100:.1f}%')"
      ],
      "metadata": {
        "colab": {
          "base_uri": "https://localhost:8080/"
        },
        "id": "nHXvM_0arqIe",
        "outputId": "852e64da-e99c-442c-fa74-31ed297822cc"
      },
      "execution_count": 25,
      "outputs": [
        {
          "output_type": "stream",
          "name": "stdout",
          "text": [
            "Acurácia na base de treino: 18.0%\n",
            "Acurácia na base de teste: 15.4%\n",
            "CPU times: user 6.54 s, sys: 4.06 ms, total: 6.54 s\n",
            "Wall time: 7.65 s\n"
          ]
        },
        {
          "output_type": "stream",
          "name": "stderr",
          "text": [
            "/usr/local/lib/python3.10/dist-packages/sklearn/base.py:493: UserWarning: X does not have valid feature names, but DecisionTreeClassifier was fitted with feature names\n",
            "  warnings.warn(\n",
            "/usr/local/lib/python3.10/dist-packages/sklearn/base.py:493: UserWarning: X does not have valid feature names, but DecisionTreeClassifier was fitted with feature names\n",
            "  warnings.warn(\n"
          ]
        }
      ]
    },
    {
      "cell_type": "markdown",
      "source": [
        "Tivemos um tempo maior e uma diminuição drástica da acurácias. Isso se deve porque estavamos utilizando todas as colunas, mesmo as últimos que são colunas que masi atrapalha do que ajuda no treinamento."
      ],
      "metadata": {
        "id": "Nl4HJkf_sbfe"
      }
    },
    {
      "cell_type": "markdown",
      "metadata": {
        "id": "v2c37OqFmywa"
      },
      "source": [
        "## Testando o número de componentes\n",
        "\n",
        "Com base no código acima, teste a árvore de classificação com pelo menos as seguintes possibilidades de quantidades de componentes: ```[1, 2, 5, 10, 50]```. Avalie para cada uma delas:\n",
        "\n",
        "- Acurácia nas bases de treino e teste\n",
        "- Tempo de processamento\n"
      ]
    },
    {
      "cell_type": "markdown",
      "source": [
        "Agora iremos selecionar apenas as `n` colunas mais representativas."
      ],
      "metadata": {
        "id": "4K6fpmHQs5qS"
      }
    },
    {
      "cell_type": "code",
      "execution_count": 26,
      "metadata": {
        "colab": {
          "base_uri": "https://localhost:8080/"
        },
        "id": "D4hxuPjDmywa",
        "outputId": "ad4d5ffc-a9a2-433d-d3a4-f9f1a357d049"
      },
      "outputs": [
        {
          "output_type": "stream",
          "name": "stdout",
          "text": [
            "CPU times: user 969 ms, sys: 2.34 ms, total: 972 ms\n",
            "Wall time: 1.56 s\n"
          ]
        }
      ],
      "source": [
        "%%time\n",
        "n=[1,2,5,10,50]\n",
        "train_scores = []\n",
        "test_scores = []\n",
        "\n",
        "for i in n:\n",
        "  pc_train_2 = pc_treino[:,:i]\n",
        "  pc_test_2 = pc_teste[:,:i]\n",
        "\n",
        "  clf_pca = DecisionTreeClassifier(random_state=2360873, ccp_alpha=0.001).fit(pc_train_2, y_train)\n",
        "  train_scores.append(clf_pca.score(pc_train_2, y_train))\n",
        "  test_scores.append(clf_pca.score(pc_test_2, y_test))\n",
        "\n",
        "\n",
        "\n"
      ]
    },
    {
      "cell_type": "code",
      "source": [
        "fig, ax = plt.subplots()\n",
        "ax.set_xlabel('Número de componentes')\n",
        "ax.set_ylabel('Acurácia')\n",
        "ax.plot(n, train_scores, label='Treino')\n",
        "ax.plot(n, test_scores, label='Teste')\n",
        "ax.legend()\n",
        "plt.show()\n"
      ],
      "metadata": {
        "colab": {
          "base_uri": "https://localhost:8080/",
          "height": 450
        },
        "id": "vwpicvn3ujRm",
        "outputId": "0fac2bf3-e11a-4385-fdab-c4a2b2e26075"
      },
      "execution_count": 27,
      "outputs": [
        {
          "output_type": "display_data",
          "data": {
            "text/plain": [
              "<Figure size 640x480 with 1 Axes>"
            ],
            "image/png": "[encoded data removed]"
          },
          "metadata": {}
        }
      ]
    },
    {
      "cell_type": "code",
      "source": [
        "print(f'Melhor acurácia de treino com {n[train_scores.index(max(train_scores))]} colunas: {max(train_scores)*100:.1f}%')\n",
        "print(f'Melhor acurácia de teste com {n[test_scores.index(max(test_scores))]} colunas: {max(test_scores)*100:.1f}%')"
      ],
      "metadata": {
        "colab": {
          "base_uri": "https://localhost:8080/"
        },
        "id": "bh3Fx850u9x2",
        "outputId": "17432a5f-3547-43f3-b0b4-330fb6761e18"
      },
      "execution_count": 34,
      "outputs": [
        {
          "output_type": "stream",
          "name": "stdout",
          "text": [
            "Melhor acurácia de treino com 50 colunas: 94.1%\n",
            "Melhor acurácia de teste com 50 colunas: 80.6%\n"
          ]
        }
      ]
    },
    {
      "cell_type": "markdown",
      "metadata": {
        "id": "e8qZE0xqmywa"
      },
      "source": [
        "## Conclua\n",
        "\n",
        "- O que aconteceu com a acurácia?\n",
        "- O que aconteceu com o tempo de processamento?"
      ]
    },
    {
      "cell_type": "markdown",
      "source": [
        "A acurácia quando utilizamos todas as colunas diminui drásticamente. Entretando, quando utilizamos as `n` colunas mais importante, tivemos um aumento da acurácia, ainda que abaixo quando utlizamos todo o Dataset original.\n",
        "\n",
        "Mas, os resultados ainda são muito bons e suficiente parecidos quando o utilizamos o dataset original, tendo em visto que tivemos uma grande diminuição de tempo no processamento.\n",
        "\n",
        "E, isso foi apenas uma demonstração, talvez se aumentarmos um pouco a quantidade de colunas obtivéssemos resultados ainda melhores."
      ],
      "metadata": {
        "id": "l6WO4zHcwk1Q"
      }
    }
  ],
  "metadata": {
    "kernelspec": {
      "display_name": "Python 3",
      "language": "python",
      "name": "python3"
    },
    "language_info": {
      "codemirror_mode": {
        "name": "ipython",
        "version": 3
      },
      "file_extension": ".py",
      "mimetype": "text/x-python",
      "name": "python",
      "nbconvert_exporter": "python",
      "pygments_lexer": "ipython3",
      "version": "3.8.5"
    },
    "toc": {
      "base_numbering": 1,
      "nav_menu": {},
      "number_sections": true,
      "sideBar": true,
      "skip_h1_title": true,
      "title_cell": "Índice",
      "title_sidebar": "Conteúdo",
      "toc_cell": false,
      "toc_position": {},
      "toc_section_display": true,
      "toc_window_display": false
    },
    "varInspector": {
      "cols": {
        "lenName": 16,
        "lenType": 16,
        "lenVar": 40
      },
      "kernels_config": {
        "python": {
          "delete_cmd_postfix": "",
          "delete_cmd_prefix": "del ",
          "library": "var_list.py",
          "varRefreshCmd": "print(var_dic_list())"
        },
        "r": {
          "delete_cmd_postfix": ") ",
          "delete_cmd_prefix": "rm(",
          "library": "var_list.r",
          "varRefreshCmd": "cat(var_dic_list()) "
        }
      },
      "types_to_exclude": [
        "module",
        "function",
        "builtin_function_or_method",
        "instance",
        "_Feature"
      ],
      "window_display": false
    },
    "colab": {
      "provenance": []
    }
  },
  "nbformat": 4,
  "nbformat_minor": 0
}